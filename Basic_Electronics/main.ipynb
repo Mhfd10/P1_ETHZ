{
 "cells": [
  {
   "metadata": {
    "ExecuteTime": {
     "end_time": "2025-10-15T22:35:26.669629Z",
     "start_time": "2025-10-15T22:35:26.664252Z"
    }
   },
   "cell_type": "code",
   "source": "import math",
   "id": "ca2a469295e60709",
   "outputs": [],
   "execution_count": 24
  },
  {
   "metadata": {},
   "cell_type": "markdown",
   "source": "# Internal Resistance with the Multimeter",
   "id": "8496c08aaa5c8234"
  },
  {
   "cell_type": "code",
   "id": "initial_id",
   "metadata": {
    "collapsed": true,
    "ExecuteTime": {
     "end_time": "2025-10-15T22:35:26.693033Z",
     "start_time": "2025-10-15T22:35:26.686204Z"
    }
   },
   "source": [
    "r1_k = 4700 # ohm\n",
    "r2_k = 10000 # ohm\n",
    "r1_m = 4700000 # ohm\n",
    "r2_m = 10000000 # ohm\n",
    "U_est = 6.803 # volt\n",
    "U_0 = 10 # volt\n",
    "\n",
    "U_mes_k = 1 # ändern in volt\n",
    "U_mes_m = 2 # ändern in volt\n",
    "\n",
    "Ri_k = (r1_k*r2_k)/(r2_k*((U_0/U_mes_k)-1)-r1_k)\n",
    "Ri_m = (r1_m*r2_m)/(r2_m*((U_0/U_mes_m)-1)-r1_m)\n",
    "print(f\"Ri_k = {Ri_k} Ω\")\n",
    "print(f\"Ri_m = {Ri_m} Ω\")"
   ],
   "outputs": [
    {
     "name": "stdout",
     "output_type": "stream",
     "text": [
      "Ri_k = 550.9964830011724 Ω\n",
      "Ri_m = 1331444.7592067989 Ω\n"
     ]
    }
   ],
   "execution_count": 25
  },
  {
   "metadata": {},
   "cell_type": "markdown",
   "source": "# Compensation Circuit",
   "id": "1fd6eca3b865998f"
  },
  {
   "metadata": {
    "ExecuteTime": {
     "end_time": "2025-10-15T22:35:26.713512Z",
     "start_time": "2025-10-15T22:35:26.707009Z"
    }
   },
   "cell_type": "code",
   "source": [
    "R_pot = 10 # ändern in ohm\n",
    "U_pot_mes_k = 10 # ändern in Volt\n",
    "U_pot_mes_m = 10 # ändern in Volt\n",
    "\n",
    "U_pot_k_est = R_pot/(r1_k+r2_k)*U_0\n",
    "U_pot_m_est = R_pot/(r1_m+r2_m)*U_0\n",
    "\n",
    "delta_U_k = 100*(U_pot_k_est-U_pot_mes_k)/U_pot_mes_k # in %\n",
    "delta_U_m = 100*(U_pot_m_est-U_pot_mes_m)/U_pot_mes_m # in %\n",
    "\n",
    "print(f\"U_pot_k_est = {U_pot_k_est} V\")\n",
    "print(f\"U_pot_m_est = {U_pot_m_est} V\")\n",
    "print(f\"U_pot_mes_k = {U_pot_mes_k} V\")\n",
    "print(f\"U_pot_mes_m = {U_pot_mes_m} V\")\n",
    "print(f\"delta_U_k = {delta_U_k} %\") # how far away the estimate from the measured value is\n",
    "print(f\"delta_U_m = {delta_U_m} %\") # how far away the estimate from the measured value is"
   ],
   "id": "b9ba467f76b03aa",
   "outputs": [
    {
     "name": "stdout",
     "output_type": "stream",
     "text": [
      "U_pot_k_est = 0.006802721088435374 V\n",
      "U_pot_m_est = 6.8027210884353745e-06 V\n",
      "U_pot_mes_k = 10 V\n",
      "U_pot_mes_m = 10 V\n",
      "delta_U_k = -99.93197278911563 %\n",
      "delta_U_m = -99.99993197278911 %\n"
     ]
    }
   ],
   "execution_count": 26
  },
  {
   "metadata": {},
   "cell_type": "markdown",
   "source": "# Internal Resistance of the Amperemeter",
   "id": "598fccd6806480c5"
  },
  {
   "metadata": {
    "ExecuteTime": {
     "end_time": "2025-10-15T22:35:26.741656Z",
     "start_time": "2025-10-15T22:35:26.734560Z"
    }
   },
   "cell_type": "code",
   "source": [
    "I_1_est = 997.7*10**(-6) # ampère\n",
    "I_2_est = 498.8*10**(-6) # ampère\n",
    "I_3_est = 498.8*10**(-6) # ampère\n",
    "\n",
    "U_0 = 10 # Volt\n",
    "r1 = 10000 # ohm\n",
    "r2 = 47 # ohm\n",
    "r3 = 47\n",
    "\n",
    "I_1_mes = 10 # verändern in ampère\n",
    "I_2_mes = 10 # verändern in ampère\n",
    "\n",
    "R_i = (U_0/I_1_mes)-(((r2*r3)/(r2+r3))+r1)\n",
    "\n",
    "print(f\"R_i = {R_i} Ω\")"
   ],
   "id": "ff8550c4d47a4745",
   "outputs": [
    {
     "name": "stdout",
     "output_type": "stream",
     "text": [
      "R_i = -10022.5 Ω\n"
     ]
    }
   ],
   "execution_count": 27
  },
  {
   "metadata": {},
   "cell_type": "markdown",
   "source": "# Four-Probe Measurement",
   "id": "6de0f31aed1bef41"
  },
  {
   "metadata": {
    "ExecuteTime": {
     "end_time": "2025-10-15T22:35:26.753178Z",
     "start_time": "2025-10-15T22:35:26.749178Z"
    }
   },
   "cell_type": "code",
   "source": [
    "d = 10 # verändern millimeter\n",
    "l = 10  # verändern meter\n",
    "R = 10 # verändern ohm\n",
    "\n",
    "rho = R*((math.pi*(d/2)**2)/l)\n",
    "print(f\"rho = {rho} Ω*mm^2/m\")"
   ],
   "id": "b9c18a6206080e08",
   "outputs": [
    {
     "name": "stdout",
     "output_type": "stream",
     "text": [
      "rho = 78.53981633974483 Ω*mm^2/m\n"
     ]
    }
   ],
   "execution_count": 28
  }
 ],
 "metadata": {
  "kernelspec": {
   "display_name": "Python 3",
   "language": "python",
   "name": "python3"
  },
  "language_info": {
   "codemirror_mode": {
    "name": "ipython",
    "version": 2
   },
   "file_extension": ".py",
   "mimetype": "text/x-python",
   "name": "python",
   "nbconvert_exporter": "python",
   "pygments_lexer": "ipython2",
   "version": "2.7.6"
  }
 },
 "nbformat": 4,
 "nbformat_minor": 5
}
