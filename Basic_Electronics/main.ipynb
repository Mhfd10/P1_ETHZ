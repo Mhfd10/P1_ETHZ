{
 "cells": [
  {
   "metadata": {
    "ExecuteTime": {
     "end_time": "2025-10-22T18:16:14.154694Z",
     "start_time": "2025-10-22T18:16:14.145388Z"
    }
   },
   "cell_type": "code",
   "source": [
    "import math\n",
    "from uncertainties import ufloat\n",
    "import numpy as np"
   ],
   "id": "ca2a469295e60709",
   "outputs": [],
   "execution_count": 65
  },
  {
   "metadata": {},
   "cell_type": "markdown",
   "source": "# Internal Resistance with the Multimeter",
   "id": "8496c08aaa5c8234"
  },
  {
   "cell_type": "code",
   "id": "initial_id",
   "metadata": {
    "collapsed": true,
    "ExecuteTime": {
     "end_time": "2025-10-22T18:16:14.176518Z",
     "start_time": "2025-10-22T18:16:14.165182Z"
    }
   },
   "source": [
    "r1_k = 4700 # ohm\n",
    "r2_k = 10000 # ohm\n",
    "r1_m = 4700000 # ohm\n",
    "r2_m = 10000000 # ohm\n",
    "U_est = 6.803 # volt\n",
    "U_0 = 10 # volt\n",
    "\n",
    "U_mes_k = 6.86 # ändern in volt\n",
    "U_mes_m = 5.333 # ändern in volt\n",
    "\n",
    "Ri_k = np.abs((r1_k*r2_k)/(r2_k*((U_0/U_mes_k)-1)-r1_k))\n",
    "Ri_m = (r1_m*r2_m)/(r2_m*((U_0/U_mes_m)-1)-r1_m)\n",
    "print(f\"Ri_k = {Ri_k} Ω\")\n",
    "print(f\"Ri_m = {Ri_m} Ω\")"
   ],
   "outputs": [
    {
     "name": "stdout",
     "output_type": "stream",
     "text": [
      "Ri_k = 382921.61520189693 Ω\n",
      "Ri_m = 11601581.122800846 Ω\n"
     ]
    }
   ],
   "execution_count": 66
  },
  {
   "metadata": {},
   "cell_type": "markdown",
   "source": "# Compensation Circuit",
   "id": "1fd6eca3b865998f"
  },
  {
   "metadata": {
    "ExecuteTime": {
     "end_time": "2025-10-22T18:16:14.218862Z",
     "start_time": "2025-10-22T18:16:14.214417Z"
    }
   },
   "cell_type": "code",
   "source": [
    "R_pot = 10000000 # ändern in ohm\n",
    "U_pot_mes_m = 6.85 # ändern in Volt\n",
    "\n",
    "U_pot_m_est = R_pot/(r1_m+r2_m)*U_0\n",
    "\n",
    "delta_U_m = 100*(U_pot_m_est-U_pot_mes_m)/U_pot_mes_m # in %\n",
    "\n",
    "print(f\"U_pot_m_est = {U_pot_m_est} V\")\n",
    "print(f\"U_pot_mes_m = {U_pot_mes_m} V\")\n",
    "print(f\"delta_U_m = {delta_U_m} %\") # how far away the estimate from the measured value is"
   ],
   "id": "b9ba467f76b03aa",
   "outputs": [
    {
     "name": "stdout",
     "output_type": "stream",
     "text": [
      "U_pot_m_est = 6.802721088435374 V\n",
      "U_pot_mes_m = 6.85 V\n",
      "delta_U_m = -0.6902030885346853 %\n"
     ]
    }
   ],
   "execution_count": 67
  },
  {
   "metadata": {},
   "cell_type": "markdown",
   "source": "# Internal Resistance of the Amperemeter",
   "id": "598fccd6806480c5"
  },
  {
   "metadata": {
    "ExecuteTime": {
     "end_time": "2025-10-22T18:16:14.251653Z",
     "start_time": "2025-10-22T18:16:14.245181Z"
    }
   },
   "cell_type": "code",
   "source": [
    "I_1_est = 997.7*10**(-6) # ampère\n",
    "I_2_est = 498.8*10**(-6) # ampère\n",
    "I_3_est = 498.8*10**(-6) # ampère\n",
    "\n",
    "U_0 = 10 # Volt\n",
    "r1 = 10000 # ohm\n",
    "r2 = 47 # ohm\n",
    "r3 = 47 # ihm\n",
    "\n",
    "I_1_mes = 1.1*10**(-3) # verändern in ampère\n",
    "I_2_mes = 0.47*10**(-3) # verändern in ampère\n",
    "\n",
    "R_i = np.abs((U_0/I_1_mes)-(((r2*r3)/(r2+r3))+r1))\n",
    "\n",
    "print(f\"R_i = {R_i} Ω\")"
   ],
   "id": "ff8550c4d47a4745",
   "outputs": [
    {
     "name": "stdout",
     "output_type": "stream",
     "text": [
      "R_i = 932.5909090909099 Ω\n"
     ]
    }
   ],
   "execution_count": 68
  },
  {
   "metadata": {},
   "cell_type": "markdown",
   "source": "# Four-Probe Measurement",
   "id": "6de0f31aed1bef41"
  },
  {
   "metadata": {},
   "cell_type": "markdown",
   "source": "## Kupfer",
   "id": "aeb4d276cb26466c"
  },
  {
   "metadata": {
    "ExecuteTime": {
     "end_time": "2025-10-22T18:16:14.278354Z",
     "start_time": "2025-10-22T18:16:14.269107Z"
    }
   },
   "cell_type": "code",
   "source": [
    "# d = 1.4mm\n",
    "# l = 15.1cm\n",
    "d = ufloat(0.0014,0.02) # verändern meter\n",
    "l = ufloat(0.151,0.001)  # verändern meter\n",
    "U_mess = ufloat(0.8*10**(-3),0.1*10**(-3))\n",
    "I_mess = ufloat(0.482, 0.001)\n",
    "R = I_mess/U_mess\n",
    "\n",
    "rho = R*((math.pi*(d/2)**2)/l)\n",
    "print(f\"rho = {rho} Ω*mm^2/m\")"
   ],
   "id": "c9c147ef1eb03e8c",
   "outputs": [
    {
     "name": "stdout",
     "output_type": "stream",
     "text": [
      "rho = 0.01+/-0.18 Ω*mm^2/m\n"
     ]
    }
   ],
   "execution_count": 69
  },
  {
   "metadata": {},
   "cell_type": "markdown",
   "source": "## unbekannt",
   "id": "42abd57752e71711"
  },
  {
   "metadata": {
    "ExecuteTime": {
     "end_time": "2025-10-22T18:16:14.306743Z",
     "start_time": "2025-10-22T18:16:14.293823Z"
    }
   },
   "cell_type": "code",
   "source": [
    "# d = 0.8mm\n",
    "# l = 17.7 cm\n",
    "d = ufloat(0.0008,0.0002) # verändern milimeter\n",
    "l = ufloat(0.177,0.01)  # verändern meter\n",
    "U_mess = ufloat(107*10**(-3),0.1*10**(-3))\n",
    "I_mess = ufloat(484.5*10**(-3), 0.001)\n",
    "R = I_mess/U_mess\n",
    "\n",
    "rho = R*((math.pi*(d/2)**2)/l)\n",
    "print(f\"rho = {rho} Ω*mm^2/m\")"
   ],
   "id": "1b72ae08b6f72549",
   "outputs": [
    {
     "name": "stdout",
     "output_type": "stream",
     "text": [
      "rho = (1.3+/-0.6)e-05 Ω*mm^2/m\n"
     ]
    }
   ],
   "execution_count": 70
  }
 ],
 "metadata": {
  "kernelspec": {
   "display_name": "Python 3",
   "language": "python",
   "name": "python3"
  },
  "language_info": {
   "codemirror_mode": {
    "name": "ipython",
    "version": 2
   },
   "file_extension": ".py",
   "mimetype": "text/x-python",
   "name": "python",
   "nbconvert_exporter": "python",
   "pygments_lexer": "ipython2",
   "version": "2.7.6"
  }
 },
 "nbformat": 4,
 "nbformat_minor": 5
}
